{
 "cells": [
  {
   "cell_type": "code",
   "execution_count": 1,
   "id": "cb410ff1",
   "metadata": {},
   "outputs": [
    {
     "name": "stderr",
     "output_type": "stream",
     "text": [
      "C:\\Users\\erudi\\anaconda3\\envs\\torch\\lib\\site-packages\\numpy\\_distributor_init.py:32: UserWarning: loaded more than 1 DLL from .libs:\n",
      "C:\\Users\\erudi\\anaconda3\\envs\\torch\\lib\\site-packages\\numpy\\.libs\\libopenblas.GK7GX5KEQ4F6UYO3P26ULGBQYHGQO7J4.gfortran-win_amd64.dll\n",
      "C:\\Users\\erudi\\anaconda3\\envs\\torch\\lib\\site-packages\\numpy\\.libs\\libopenblas.WCDJNK7YVMPZQ2ME2ZZHJJRJ3JIKNDB7.gfortran-win_amd64.dll\n",
      "  stacklevel=1)\n"
     ]
    }
   ],
   "source": [
    "import numpy as np\n",
    "import pandas as pd\n",
    "import os\n",
    "\n",
    "import torch\n",
    "import torch.nn as nn\n",
    "import torch.optim as optim\n",
    "\n",
    "from torchvision import datasets, models, transforms\n",
    "\n",
    "from torch.utils.data.sampler import SubsetRandomSampler\n",
    "\n",
    "from torch.utils.data import DataLoader\n",
    "from torchvision.models import resnet18, resnet50\n",
    "\n",
    "import matplotlib.pyplot as plt\n",
    "\n",
    "from sklearn.metrics import accuracy_score, classification_report, confusion_matrix, plot_confusion_matrix, precision_score, recall_score, f1_score\n",
    "import seaborn as sns\n",
    "import pickle"
   ]
  },
  {
   "cell_type": "code",
   "execution_count": 15,
   "id": "43d7cd0f",
   "metadata": {},
   "outputs": [
    {
     "data": {
      "text/plain": [
       "<torch._C.Generator at 0x274471fc150>"
      ]
     },
     "execution_count": 15,
     "metadata": {},
     "output_type": "execute_result"
    }
   ],
   "source": [
    "torch.manual_seed(159)"
   ]
  },
  {
   "cell_type": "code",
   "execution_count": 16,
   "id": "3726209e",
   "metadata": {},
   "outputs": [],
   "source": [
    "dataset_path = \"./segmented_validation_set\""
   ]
  },
  {
   "cell_type": "code",
   "execution_count": 17,
   "id": "0abb5599",
   "metadata": {},
   "outputs": [],
   "source": [
    "train_transform = transforms.Compose([\n",
    "    transforms.Resize(size=(224,224)),\n",
    "    transforms.RandomHorizontalFlip(), \n",
    "    transforms.ToTensor(), \n",
    "    transforms.Normalize(mean = [0.485, 0.456, 0.406],\n",
    "                                    std = [0.229, 0.224, 0.225]) #Normalizing the data to the data that the ResNet18 was trained on\n",
    "    \n",
    "])\n",
    "test_transform = transforms.Compose([\n",
    "    transforms.Resize(size=(224,224)),\n",
    "    transforms.ToTensor(), \n",
    "    transforms.Normalize(mean = [0.485, 0.456, 0.406],\n",
    "                                    std = [0.229, 0.224, 0.225]) #Normalizing the data to the data that the ResNet18 was trained on\n",
    "    \n",
    "])\n",
    "\n",
    "train_test_transform = {'train' : train_transform, 'test': test_transform}"
   ]
  },
  {
   "cell_type": "code",
   "execution_count": 18,
   "id": "3b9b9d7a",
   "metadata": {},
   "outputs": [],
   "source": [
    "testset = datasets.ImageFolder(dataset_path,       \n",
    "                    transform=train_test_transform['test'])"
   ]
  },
  {
   "cell_type": "code",
   "execution_count": 19,
   "id": "ce84e4eb",
   "metadata": {},
   "outputs": [],
   "source": [
    "def split_image_data(data_path, transform_dict):\n",
    "    trainset = datasets.ImageFolder(data_path,       \n",
    "                    transform=transform_dict['train'])\n",
    "    testset = datasets.ImageFolder(data_path,       \n",
    "                    transform=transform_dict['test'])\n",
    "    \n",
    "    num_test_imgs = int(np.floor(0.2 * len(trainset)))\n",
    "    idx = list(range(len(trainset)))\n",
    "    np.random.shuffle(idx)\n",
    "    \n",
    "    train_sampler = SubsetRandomSampler(idx[num_test_imgs:])\n",
    "    test_sampler = SubsetRandomSampler(idx[:num_test_imgs])\n",
    "    \n",
    "    trainloader = DataLoader(trainset, sampler=train_sampler, batch_size=5)\n",
    "    testloader = DataLoader(testset, sampler=test_sampler, batch_size=5)\n",
    "    \n",
    "    return trainloader, testloader"
   ]
  },
  {
   "cell_type": "code",
   "execution_count": 20,
   "id": "c6339710",
   "metadata": {},
   "outputs": [],
   "source": [
    "trainloader, testloader = split_image_data(dataset_path, train_test_transform)"
   ]
  },
  {
   "cell_type": "code",
   "execution_count": 21,
   "id": "c562d545",
   "metadata": {},
   "outputs": [
    {
     "data": {
      "text/plain": [
       "11"
      ]
     },
     "execution_count": 21,
     "metadata": {},
     "output_type": "execute_result"
    }
   ],
   "source": [
    "len(testloader)"
   ]
  },
  {
   "cell_type": "code",
   "execution_count": 2,
   "id": "f9bbb8ef",
   "metadata": {},
   "outputs": [],
   "source": [
    "class_names = ['Healthy', 'Susceptible']"
   ]
  },
  {
   "cell_type": "code",
   "execution_count": 23,
   "id": "ee3583f3",
   "metadata": {},
   "outputs": [
    {
     "data": {
      "image/png": "[encoded data removed]",
      "text/plain": [
       "<Figure size 432x288 with 1 Axes>"
      ]
     },
     "metadata": {},
     "output_type": "display_data"
    }
   ],
   "source": [
    "class_names = os.listdir(dataset_path)\n",
    "image_count = {}\n",
    "color_palette_list = ['#009ACD', '#ADD8E6', '#63D1F4', '#0EBFE9',   \n",
    "                      '#C1F0F6', '#0099CC']\n",
    "for i in class_names:\n",
    "    image_count[i] = len(os.listdir(os.path.join(dataset_path,i)))\n",
    "\n",
    "#Plotting Distribution of Each Classes\n",
    "fig1, ax1 = plt.subplots()\n",
    "plt.title(\"Distribution of Images\")\n",
    "ax1.pie(image_count.values(),\n",
    "        labels = image_count.keys(),\n",
    "        shadow=False,\n",
    "        autopct = '%1.1f%%',\n",
    "        startangle=90,\n",
    "       colors=color_palette_list[0:3])\n",
    "plt.show()"
   ]
  },
  {
   "cell_type": "code",
   "execution_count": 24,
   "id": "f9a0dc68",
   "metadata": {},
   "outputs": [
    {
     "data": {
      "text/plain": [
       "<AxesSubplot:title={'center':'Image count by type'}>"
      ]
     },
     "execution_count": 24,
     "metadata": {},
     "output_type": "execute_result"
    },
    {
     "data": {
      "image/png": "[encoded data removed]",
      "text/plain": [
       "<Figure size 720x432 with 1 Axes>"
      ]
     },
     "metadata": {},
     "output_type": "display_data"
    }
   ],
   "source": [
    "sns.set_theme(style=\"whitegrid\")\n",
    "plt.figure(figsize=(10,6))\n",
    "plt.title(\"Image count by type\")\n",
    "sns.barplot(x=list(image_count.keys()), y=list(image_count.values()))"
   ]
  },
  {
   "cell_type": "code",
   "execution_count": 8,
   "id": "27042097",
   "metadata": {},
   "outputs": [],
   "source": [
    "model = resnet18(pretrained=True)"
   ]
  },
  {
   "cell_type": "code",
   "execution_count": 9,
   "id": "c6dcf1d1",
   "metadata": {},
   "outputs": [
    {
     "data": {
      "text/plain": [
       "Linear(in_features=512, out_features=1000, bias=True)"
      ]
     },
     "execution_count": 9,
     "metadata": {},
     "output_type": "execute_result"
    }
   ],
   "source": [
    "model.fc"
   ]
  },
  {
   "cell_type": "code",
   "execution_count": 10,
   "id": "fa6b6694",
   "metadata": {},
   "outputs": [],
   "source": [
    "model.fc = torch.nn.Linear(in_features=512, out_features=2)\n",
    "loss_fn = torch.nn.CrossEntropyLoss()"
   ]
  },
  {
   "cell_type": "code",
   "execution_count": 11,
   "id": "93e62be5",
   "metadata": {},
   "outputs": [
    {
     "data": {
      "text/plain": [
       "<All keys matched successfully>"
      ]
     },
     "execution_count": 11,
     "metadata": {},
     "output_type": "execute_result"
    }
   ],
   "source": [
    "model.load_state_dict(torch.load(\"valid_segmented.pt\"))"
   ]
  },
  {
   "cell_type": "code",
   "execution_count": 25,
   "id": "c39d3d49",
   "metadata": {},
   "outputs": [],
   "source": [
    "device = torch.device('cuda' if torch.cuda.is_available() else 'cpu')\n",
    "model = model.to(device)"
   ]
  },
  {
   "cell_type": "code",
   "execution_count": 26,
   "id": "c3d100d5",
   "metadata": {},
   "outputs": [],
   "source": [
    "optimizer = torch.optim.Adam(model.parameters(), lr=3e-5)"
   ]
  },
  {
   "cell_type": "code",
   "execution_count": 27,
   "id": "7e0d3d38",
   "metadata": {},
   "outputs": [],
   "source": [
    "def image_label_plotter(imgs, labels, output_pred):\n",
    "    plt.figure(figsize=(8,6))\n",
    "    for i, img in enumerate(imgs):\n",
    "        plt.subplot(1, 5, i + 1, xticks = [], yticks =[]) \n",
    "        img = img.cpu().numpy().transpose((1, 2, 0))\n",
    "        img = img * np.array([0.229, 0.224, 0.225]) + np.array([0.485, 0.456, 0.406]) #using mean and std\n",
    "        img = np.clip(img, 0., 1.)\n",
    "        plt.imshow(img)\n",
    "        \n",
    "        col = 'green' if output_pred[i] == labels[i] else 'red'\n",
    "        xlabel = class_names[int(labels[i].cpu().numpy())]\n",
    "        ylabel = class_names[int(output_pred[i].cpu().numpy())]\n",
    "        plt.xlabel(xlabel)\n",
    "        plt.ylabel(ylabel, color=col)\n",
    "    plt.tight_layout()\n",
    "    plt.show()"
   ]
  },
  {
   "cell_type": "code",
   "execution_count": 28,
   "id": "ee8c3d36",
   "metadata": {},
   "outputs": [],
   "source": [
    "def display_prediction_images(testloader):\n",
    "    model.eval() \n",
    "    imgs, labels = next(iter(testloader))\n",
    "    if (torch.cuda.is_available()):\n",
    "        imgs = imgs.cuda()\n",
    "        labels = labels.cuda()\n",
    "    outputs = model(imgs)\n",
    "    _, output_pred = torch.max(outputs, 1)\n",
    "    image_label_plotter(imgs, labels, output_pred)\n",
    "\n"
   ]
  },
  {
   "cell_type": "code",
   "execution_count": 20,
   "id": "f30e80c8",
   "metadata": {},
   "outputs": [
    {
     "name": "stderr",
     "output_type": "stream",
     "text": [
      "C:\\Users\\erudi\\anaconda3\\envs\\torch\\lib\\site-packages\\torch\\nn\\functional.py:718: UserWarning: Named tensors and all their associated APIs are an experimental feature and subject to change. Please do not use them for anything important until they are released as stable. (Triggered internally at  ..\\c10/core/TensorImpl.h:1156.)\n",
      "  return torch.max_pool2d(input, kernel_size, stride, padding, dilation, ceil_mode)\n"
     ]
    },
    {
     "data": {
      "image/png": "[encoded data removed]",
      "text/plain": [
       "<Figure size 576x432 with 5 Axes>"
      ]
     },
     "metadata": {},
     "output_type": "display_data"
    }
   ],
   "source": [
    "display_prediction_images(testloader)"
   ]
  },
  {
   "cell_type": "code",
   "execution_count": 23,
   "id": "768045bd",
   "metadata": {},
   "outputs": [],
   "source": [
    "def train_model(model, epochs, trainloader, testloader, optimizer, loss_fn):\n",
    "    metrics = {'train_loss' : [], \n",
    "               'valid_loss' : [], \n",
    "               'train_accuracy' : [], \n",
    "               'valid_accuracy' : [], \n",
    "               'train_loss_all' : [], \n",
    "               'train_acc_all' : []}\n",
    "    print(\"Training {} model\".format(model.__class__.__name__))\n",
    "    train_step = 0\n",
    "    for e in range(0, epochs):\n",
    "        print()\n",
    "        print(\"Epoch {} of {}\".format(e+1,epochs))\n",
    "\n",
    "        train_loss = 0.\n",
    "        val_loss = 0.  \n",
    "        \n",
    "        model.train()\n",
    "        for batch_no, (images, labels) in enumerate(trainloader):\n",
    "            if (torch.cuda.is_available()):\n",
    "                images = images.cuda()\n",
    "                labels = labels.cuda()\n",
    "            train_step += 1\n",
    "            optimizer.zero_grad()\n",
    "            outputs = model(images)\n",
    "            loss = loss_fn(outputs, labels)\n",
    "            loss.backward() #Back propogation\n",
    "            optimizer.step() \n",
    "            train_loss += loss.item() \n",
    "            \n",
    "            _, train_preds = torch.max(outputs, 1) \n",
    "            train_acc = sum((train_preds == labels).cpu().numpy())\n",
    "            \n",
    "            metrics['train_loss_all'].append(train_loss/(train_step+1))\n",
    "            metrics['train_acc_all'].append(train_acc /(train_step+1))\n",
    "            \n",
    "            #Evaluating the model every 20th batch\n",
    "            if batch_no % 10 == 0:\n",
    "                metrics['train_loss'].append(train_loss/(train_step+1))\n",
    "                metrics['train_accuracy'].append(train_acc/(train_step+1))\n",
    "                print('Evaluating at Batch', batch_no)\n",
    "\n",
    "                accuracy = 0\n",
    "\n",
    "                model.eval()\n",
    "\n",
    "                for val_step, (images, labels) in enumerate(testloader):\n",
    "                    if (torch.cuda.is_available()):\n",
    "                        images = images.cuda()\n",
    "                        labels = labels.cuda()\n",
    "                    outputs = model(images)\n",
    "                    loss = loss_fn(outputs, labels)\n",
    "                    val_loss += loss.item()\n",
    "\n",
    "                    _, preds = torch.max(outputs, 1) \n",
    "                    accuracy += sum((preds == labels).cpu().numpy()) \n",
    "\n",
    "                val_loss /= (val_step + 1) \n",
    "                accuracy = accuracy/ (len(testset) / 5)\n",
    "                print(\"Validation Loss: {:.4f}, Accuracy: {:.4f}\".format(val_loss, accuracy))\n",
    "                \n",
    "                metrics['valid_loss'].append(val_loss)\n",
    "                metrics['valid_accuracy'].append(accuracy)\n",
    "                \n",
    "                \n",
    "\n",
    "                display_prediction_images(testloader)\n",
    "\n",
    "                model.train()\n",
    "\n",
    "                if accuracy >= 0.85:\n",
    "                    \n",
    "                    print('Optimal Accuracy Attained. Stopping now!')\n",
    "                    train_loss /= (train_step + 1)\n",
    "                    print(\"Training Loss {:.4f}\".format(train_loss))\n",
    "                    return metrics\n",
    "    return metrics\n",
    "        "
   ]
  },
  {
   "cell_type": "code",
   "execution_count": 24,
   "id": "a93e7a53",
   "metadata": {},
   "outputs": [
    {
     "name": "stdout",
     "output_type": "stream",
     "text": [
      "Training ResNet model\n",
      "\n",
      "Epoch 1 of 1\n",
      "Evaluating at Batch 0\n",
      "Validation Loss: 0.7711, Accuracy: 0.4808\n"
     ]
    },
    {
     "data": {
      "image/png": "[encoded data removed]",
      "text/plain": [
       "<Figure size 576x432 with 5 Axes>"
      ]
     },
     "metadata": {},
     "output_type": "display_data"
    },
    {
     "name": "stdout",
     "output_type": "stream",
     "text": [
      "Evaluating at Batch 10\n",
      "Validation Loss: 0.6972, Accuracy: 0.6538\n"
     ]
    },
    {
     "data": {
      "image/png": "[encoded data removed]",
      "text/plain": [
       "<Figure size 576x432 with 5 Axes>"
      ]
     },
     "metadata": {},
     "output_type": "display_data"
    },
    {
     "name": "stdout",
     "output_type": "stream",
     "text": [
      "Evaluating at Batch 20\n",
      "Validation Loss: 0.5786, Accuracy: 0.7885\n"
     ]
    },
    {
     "data": {
      "image/png": "[encoded data removed]",
      "text/plain": [
       "<Figure size 576x432 with 5 Axes>"
      ]
     },
     "metadata": {},
     "output_type": "display_data"
    },
    {
     "name": "stdout",
     "output_type": "stream",
     "text": [
      "Evaluating at Batch 30\n",
      "Validation Loss: 0.4660, Accuracy: 0.8462\n"
     ]
    },
    {
     "data": {
      "image/png": "[encoded data removed]",
      "text/plain": [
       "<Figure size 576x432 with 5 Axes>"
      ]
     },
     "metadata": {},
     "output_type": "display_data"
    },
    {
     "name": "stdout",
     "output_type": "stream",
     "text": [
      "Evaluating at Batch 40\n",
      "Validation Loss: 0.3641, Accuracy: 0.8846\n"
     ]
    },
    {
     "data": {
      "image/png": "[encoded data removed]",
      "text/plain": [
       "<Figure size 576x432 with 5 Axes>"
      ]
     },
     "metadata": {},
     "output_type": "display_data"
    },
    {
     "name": "stdout",
     "output_type": "stream",
     "text": [
      "Optimal Accuracy Attained. Stopping now!\n",
      "Training Loss 0.6158\n"
     ]
    }
   ],
   "source": [
    "metrics = train_model(model, 1, trainloader, testloader, optimizer, loss_fn)"
   ]
  },
  {
   "cell_type": "code",
   "execution_count": 27,
   "id": "43ee32f1",
   "metadata": {},
   "outputs": [],
   "source": [
    "torch.save(model.state_dict(), \"valid_segmented.pt\")"
   ]
  },
  {
   "cell_type": "code",
   "execution_count": 26,
   "id": "fb3bb107",
   "metadata": {},
   "outputs": [
    {
     "data": {
      "text/plain": [
       "{'train_loss': [0.4497471749782562,\n",
       "  0.7137569114565849,\n",
       "  0.7499430138956417,\n",
       "  0.6798431128263474,\n",
       "  0.6158335953950882],\n",
       " 'valid_loss': [0.7711031111803922,\n",
       "  0.6971550310446211,\n",
       "  0.5786120920903158,\n",
       "  0.4660317507614391,\n",
       "  0.3641101560559209],\n",
       " 'train_accuracy': [1.0,\n",
       "  0.4166666666666667,\n",
       "  0.13636363636363635,\n",
       "  0.15625,\n",
       "  0.11904761904761904],\n",
       " 'valid_accuracy': [0.4807692307692308,\n",
       "  0.6538461538461539,\n",
       "  0.7884615384615384,\n",
       "  0.8461538461538461,\n",
       "  0.8846153846153846],\n",
       " 'train_loss_all': [0.4497471749782562,\n",
       "  0.6636974215507507,\n",
       "  0.6572406738996506,\n",
       "  0.6215407848358154,\n",
       "  0.6583612163861593,\n",
       "  0.6596610120364598,\n",
       "  0.6613156050443649,\n",
       "  0.6635696093241373,\n",
       "  0.70946124792099,\n",
       "  0.7480930523438887,\n",
       "  0.7137569114565849,\n",
       "  0.6964879746620471,\n",
       "  0.7106834032705852,\n",
       "  0.6937822997570038,\n",
       "  0.6796766724437475,\n",
       "  0.6933937931762022,\n",
       "  0.6983431163761351,\n",
       "  0.7213122389818493,\n",
       "  0.7414812311530113,\n",
       "  0.7563253172806331,\n",
       "  0.7499430138956417,\n",
       "  0.7368433203386224,\n",
       "  0.7451092191040516,\n",
       "  0.7262859070301055,\n",
       "  0.719364807009697,\n",
       "  0.7212454930499748,\n",
       "  0.7159560482416835,\n",
       "  0.7012901419195635,\n",
       "  0.7050916562477748,\n",
       "  0.6942686957697715,\n",
       "  0.6798431128263474,\n",
       "  0.6833648410710421,\n",
       "  0.6896661221981049,\n",
       "  0.6759576180151531,\n",
       "  0.6703749733666579,\n",
       "  0.6602803239145795,\n",
       "  0.6563833728432655,\n",
       "  0.6446155110994974,\n",
       "  0.6326832316815854,\n",
       "  0.6275976968974601,\n",
       "  0.6158335953950882],\n",
       " 'train_acc_all': [1.0,\n",
       "  0.3333333333333333,\n",
       "  0.75,\n",
       "  0.8,\n",
       "  0.5,\n",
       "  0.42857142857142855,\n",
       "  0.375,\n",
       "  0.2222222222222222,\n",
       "  0.0,\n",
       "  0.09090909090909091,\n",
       "  0.4166666666666667,\n",
       "  0.3076923076923077,\n",
       "  0.07142857142857142,\n",
       "  0.26666666666666666,\n",
       "  0.25,\n",
       "  0.11764705882352941,\n",
       "  0.1111111111111111,\n",
       "  0.05263157894736842,\n",
       "  0.1,\n",
       "  0.047619047619047616,\n",
       "  0.13636363636363635,\n",
       "  0.13043478260869565,\n",
       "  0.08333333333333333,\n",
       "  0.2,\n",
       "  0.15384615384615385,\n",
       "  0.14814814814814814,\n",
       "  0.14285714285714285,\n",
       "  0.1724137931034483,\n",
       "  0.1,\n",
       "  0.12903225806451613,\n",
       "  0.15625,\n",
       "  0.06060606060606061,\n",
       "  0.08823529411764706,\n",
       "  0.14285714285714285,\n",
       "  0.08333333333333333,\n",
       "  0.13513513513513514,\n",
       "  0.10526315789473684,\n",
       "  0.1282051282051282,\n",
       "  0.125,\n",
       "  0.0975609756097561,\n",
       "  0.11904761904761904]}"
      ]
     },
     "execution_count": 26,
     "metadata": {},
     "output_type": "execute_result"
    }
   ],
   "source": [
    "metrics"
   ]
  },
  {
   "cell_type": "code",
   "execution_count": 26,
   "id": "de81431c",
   "metadata": {},
   "outputs": [],
   "source": [
    "with open('valid_segmented.obj', 'wb') as fp:\n",
    "    pickle.dump(metrics, fp)"
   ]
  },
  {
   "cell_type": "code",
   "execution_count": 29,
   "id": "d1f0c823",
   "metadata": {},
   "outputs": [],
   "source": [
    "def test_model(testloader, model, loss_fn):\n",
    "    print(\"Testing {} model\".format(model.__class__.__name__))\n",
    "    test_metrics = {'labels' : [], \n",
    "                    'predictions' :[]}\n",
    "    test_loss = 0.\n",
    "    correct = 0.\n",
    "    total = 0.\n",
    "    model.eval()\n",
    "    for batch_idx, (images, target) in enumerate(testloader):\n",
    "        if (torch.cuda.is_available()):\n",
    "            images = images.cuda()\n",
    "            target = target.cuda()\n",
    "        test_metrics['labels'] += list(target)\n",
    "        outputs = model(images)\n",
    "        loss = loss_fn(outputs, target)\n",
    "        # update average test loss\n",
    "        test_loss = test_loss + ((1 / (batch_idx + 1)) * (loss.data - test_loss))\n",
    "        # convert output probabilities to predicted class\n",
    "        pred = outputs.data.max(1, keepdim=True)[1]\n",
    "        \n",
    "        test_metrics['predictions'] += list(pred)\n",
    "        # compare predictions to true label\n",
    "        correct += np.sum(np.squeeze(pred.eq(target.data.view_as(pred))).cpu().numpy())\n",
    "        total += images.size(0)\n",
    "    print('Test Loss: {:.6f}\\n'.format(test_loss))\n",
    "    print('\\nTest Accuracy: %.3f%% (%2d/%2d)' % (100. * correct / total, correct, total))\n",
    "    return test_metrics"
   ]
  },
  {
   "cell_type": "code",
   "execution_count": 30,
   "id": "3cf46751",
   "metadata": {},
   "outputs": [
    {
     "name": "stdout",
     "output_type": "stream",
     "text": [
      "Testing ResNet model\n"
     ]
    },
    {
     "name": "stderr",
     "output_type": "stream",
     "text": [
      "C:\\Users\\erudi\\anaconda3\\envs\\torch\\lib\\site-packages\\torch\\nn\\functional.py:718: UserWarning: Named tensors and all their associated APIs are an experimental feature and subject to change. Please do not use them for anything important until they are released as stable. (Triggered internally at  ..\\c10/core/TensorImpl.h:1156.)\n",
      "  return torch.max_pool2d(input, kernel_size, stride, padding, dilation, ceil_mode)\n"
     ]
    },
    {
     "name": "stdout",
     "output_type": "stream",
     "text": [
      "Test Loss: 0.252193\n",
      "\n",
      "\n",
      "Test Accuracy: 92.308% (48/52)\n"
     ]
    }
   ],
   "source": [
    "test_metrics = test_model(testloader, model, loss_fn)"
   ]
  },
  {
   "cell_type": "code",
   "execution_count": 31,
   "id": "a0300a16",
   "metadata": {},
   "outputs": [],
   "source": [
    "with open('test_valid_segmented.obj', 'wb') as fp:\n",
    "    pickle.dump(test_metrics, fp)"
   ]
  },
  {
   "cell_type": "code",
   "execution_count": 32,
   "id": "a5883c83",
   "metadata": {},
   "outputs": [],
   "source": [
    "labs = [int(x) for x in test_metrics['labels']]\n",
    "preds = [int(x) for x in test_metrics['predictions']]"
   ]
  },
  {
   "cell_type": "code",
   "execution_count": 35,
   "id": "73b46e96",
   "metadata": {},
   "outputs": [],
   "source": [
    "with open('validation_segmented/labels.obj', 'wb') as fp:\n",
    "    pickle.dump(labs, fp)\n",
    "    \n",
    "with open('validation_segmented/preds.obj', 'wb') as fp:\n",
    "    pickle.dump(preds, fp)"
   ]
  },
  {
   "cell_type": "code",
   "execution_count": 3,
   "id": "85bc851a",
   "metadata": {},
   "outputs": [],
   "source": [
    "with open('validation_segmented/labels.obj', 'rb') as f:\n",
    "    labs = pickle.load(f)\n",
    "    \n",
    "with open('validation_segmented/preds.obj', 'rb') as f:\n",
    "    preds = pickle.load(f)"
   ]
  },
  {
   "cell_type": "code",
   "execution_count": 4,
   "id": "7d2b2493",
   "metadata": {},
   "outputs": [
    {
     "data": {
      "text/plain": [
       "0.9230769230769231"
      ]
     },
     "execution_count": 4,
     "metadata": {},
     "output_type": "execute_result"
    }
   ],
   "source": [
    "accuracy_score(labs, preds)"
   ]
  },
  {
   "cell_type": "code",
   "execution_count": 5,
   "id": "59e825df",
   "metadata": {},
   "outputs": [
    {
     "name": "stdout",
     "output_type": "stream",
     "text": [
      "              precision    recall  f1-score   support\n",
      "\n",
      "           0       0.75      1.00      0.86        12\n",
      "           1       1.00      0.90      0.95        40\n",
      "\n",
      "    accuracy                           0.92        52\n",
      "   macro avg       0.88      0.95      0.90        52\n",
      "weighted avg       0.94      0.92      0.93        52\n",
      "\n"
     ]
    }
   ],
   "source": [
    "print(classification_report(labs, preds))"
   ]
  },
  {
   "cell_type": "code",
   "execution_count": 7,
   "id": "059a39da",
   "metadata": {},
   "outputs": [
    {
     "data": {
      "image/png": "[encoded data removed]",
      "text/plain": [
       "<Figure size 576x432 with 2 Axes>"
      ]
     },
     "metadata": {
      "needs_background": "light"
     },
     "output_type": "display_data"
    }
   ],
   "source": [
    "confusion_mat =  confusion_matrix(labs, preds)\n",
    "plt.figure(figsize=(8,6))\n",
    "\n",
    "ax= plt.subplot()\n",
    "sns.heatmap(confusion_mat,cmap=\"YlGnBu\", annot=True, fmt='g', ax=ax, annot_kws = {'size':15})\n",
    "\n",
    "ax.xaxis.set_ticklabels(class_names); ax.yaxis.set_ticklabels(class_names);\n",
    "\n",
    "#plt.title(\"Confusion Matrix for GrabCut Dataset\", fontsize=20)\n",
    "#plt.xticks([0,1,2],labels=class_names)\n",
    "plt.xlabel('Predicted', fontsize=20)\n",
    "plt.ylabel('True', fontsize=20)\n",
    "for tick in ax.xaxis.get_major_ticks():\n",
    "    tick.label.set_fontsize(15) \n",
    "for tick in ax.yaxis.get_major_ticks():\n",
    "    tick.label.set_fontsize(15) \n",
    "\n",
    "plt.savefig(\"validation_segmented/valid_seg_confusion.png\")\n",
    "plt.show()"
   ]
  },
  {
   "cell_type": "code",
   "execution_count": 4,
   "id": "651d0160",
   "metadata": {},
   "outputs": [],
   "source": [
    "metrics = {'train_loss': [0.4497471749782562,\n",
    "  0.7137569114565849,\n",
    "  0.7499430138956417,\n",
    "  0.6798431128263474,\n",
    "  0.6158335953950882],\n",
    " 'valid_loss': [0.7711031111803922,\n",
    "  0.6971550310446211,\n",
    "  0.5786120920903158,\n",
    "  0.4660317507614391,\n",
    "  0.3641101560559209],\n",
    " 'train_accuracy': [1.0,\n",
    "  0.4166666666666667,\n",
    "  0.13636363636363635,\n",
    "  0.15625,\n",
    "  0.11904761904761904],\n",
    " 'valid_accuracy': [0.4807692307692308,\n",
    "  0.6538461538461539,\n",
    "  0.7884615384615384,\n",
    "  0.8461538461538461,\n",
    "  0.8846153846153846],\n",
    " 'train_loss_all': [0.4497471749782562,\n",
    "  0.6636974215507507,\n",
    "  0.6572406738996506,\n",
    "  0.6215407848358154,\n",
    "  0.6583612163861593,\n",
    "  0.6596610120364598,\n",
    "  0.6613156050443649,\n",
    "  0.6635696093241373,\n",
    "  0.70946124792099,\n",
    "  0.7480930523438887,\n",
    "  0.7137569114565849,\n",
    "  0.6964879746620471,\n",
    "  0.7106834032705852,\n",
    "  0.6937822997570038,\n",
    "  0.6796766724437475,\n",
    "  0.6933937931762022,\n",
    "  0.6983431163761351,\n",
    "  0.7213122389818493,\n",
    "  0.7414812311530113,\n",
    "  0.7563253172806331,\n",
    "  0.7499430138956417,\n",
    "  0.7368433203386224,\n",
    "  0.7451092191040516,\n",
    "  0.7262859070301055,\n",
    "  0.719364807009697,\n",
    "  0.7212454930499748,\n",
    "  0.7159560482416835,\n",
    "  0.7012901419195635,\n",
    "  0.7050916562477748,\n",
    "  0.6942686957697715,\n",
    "  0.6798431128263474,\n",
    "  0.6833648410710421,\n",
    "  0.6896661221981049,\n",
    "  0.6759576180151531,\n",
    "  0.6703749733666579,\n",
    "  0.6602803239145795,\n",
    "  0.6563833728432655,\n",
    "  0.6446155110994974,\n",
    "  0.6326832316815854,\n",
    "  0.6275976968974601,\n",
    "  0.6158335953950882],\n",
    " 'train_acc_all': [1.0,\n",
    "  0.3333333333333333,\n",
    "  0.75,\n",
    "  0.8,\n",
    "  0.5,\n",
    "  0.42857142857142855,\n",
    "  0.375,\n",
    "  0.2222222222222222,\n",
    "  0.0,\n",
    "  0.09090909090909091,\n",
    "  0.4166666666666667,\n",
    "  0.3076923076923077,\n",
    "  0.07142857142857142,\n",
    "  0.26666666666666666,\n",
    "  0.25,\n",
    "  0.11764705882352941,\n",
    "  0.1111111111111111,\n",
    "  0.05263157894736842,\n",
    "  0.1,\n",
    "  0.047619047619047616,\n",
    "  0.13636363636363635,\n",
    "  0.13043478260869565,\n",
    "  0.08333333333333333,\n",
    "  0.2,\n",
    "  0.15384615384615385,\n",
    "  0.14814814814814814,\n",
    "  0.14285714285714285,\n",
    "  0.1724137931034483,\n",
    "  0.1,\n",
    "  0.12903225806451613,\n",
    "  0.15625,\n",
    "  0.06060606060606061,\n",
    "  0.08823529411764706,\n",
    "  0.14285714285714285,\n",
    "  0.08333333333333333,\n",
    "  0.13513513513513514,\n",
    "  0.10526315789473684,\n",
    "  0.1282051282051282,\n",
    "  0.125,\n",
    "  0.0975609756097561,\n",
    "  0.11904761904761904]}"
   ]
  },
  {
   "cell_type": "code",
   "execution_count": 6,
   "id": "e5f4a14a",
   "metadata": {},
   "outputs": [
    {
     "data": {
      "text/plain": [
       "[0.4497471749782562,\n",
       " 0.7137569114565849,\n",
       " 0.7499430138956417,\n",
       " 0.6798431128263474,\n",
       " 0.6158335953950882]"
      ]
     },
     "execution_count": 6,
     "metadata": {},
     "output_type": "execute_result"
    }
   ],
   "source": [
    "metrics['train_loss']"
   ]
  },
  {
   "cell_type": "code",
   "execution_count": 8,
   "id": "07eba4f2",
   "metadata": {},
   "outputs": [
    {
     "data": {
      "text/plain": [
       "0.9230769230769231"
      ]
     },
     "execution_count": 8,
     "metadata": {},
     "output_type": "execute_result"
    }
   ],
   "source": [
    "precision_score(labs, preds, average='micro')"
   ]
  },
  {
   "cell_type": "code",
   "execution_count": 9,
   "id": "1d1e0704",
   "metadata": {},
   "outputs": [
    {
     "data": {
      "text/plain": [
       "0.9230769230769231"
      ]
     },
     "execution_count": 9,
     "metadata": {},
     "output_type": "execute_result"
    }
   ],
   "source": [
    "recall_score(labs, preds, average='micro')"
   ]
  },
  {
   "cell_type": "code",
   "execution_count": 10,
   "id": "91ed6809",
   "metadata": {},
   "outputs": [
    {
     "data": {
      "text/plain": [
       "0.9230769230769231"
      ]
     },
     "execution_count": 10,
     "metadata": {},
     "output_type": "execute_result"
    }
   ],
   "source": [
    "f1_score(labs, preds, average='micro')"
   ]
  },
  {
   "cell_type": "code",
   "execution_count": 52,
   "id": "de231a16",
   "metadata": {},
   "outputs": [],
   "source": [
    "from sklearn.metrics import roc_curve, RocCurveDisplay, auc"
   ]
  },
  {
   "cell_type": "code",
   "execution_count": 43,
   "id": "c980e433",
   "metadata": {},
   "outputs": [],
   "source": [
    "fpr, tpr, thresholds = roc_curve(labs, preds)"
   ]
  },
  {
   "cell_type": "code",
   "execution_count": 46,
   "id": "d29517c5",
   "metadata": {},
   "outputs": [],
   "source": [
    "roc_auc = auc(fpr, tpr)"
   ]
  },
  {
   "cell_type": "code",
   "execution_count": 50,
   "id": "5ba55a85",
   "metadata": {},
   "outputs": [],
   "source": [
    "import sklearn"
   ]
  },
  {
   "cell_type": "code",
   "execution_count": 66,
   "id": "4abf0c79",
   "metadata": {},
   "outputs": [
    {
     "data": {
      "text/plain": [
       "<Figure size 864x576 with 0 Axes>"
      ]
     },
     "metadata": {},
     "output_type": "display_data"
    },
    {
     "data": {
      "image/png": "[encoded data removed]",
      "text/plain": [
       "<Figure size 432x288 with 1 Axes>"
      ]
     },
     "metadata": {},
     "output_type": "display_data"
    }
   ],
   "source": [
    "roc_fig = plt.figure(figsize=(12,8))\n",
    "display = RocCurveDisplay(fpr=fpr, tpr=tpr, roc_auc=roc_auc)\n",
    "display.plot()\n",
    "#plt.figure(figsize=(12,8))\n",
    "plt.savefig('validation_segmented/roc_plot.png')\n",
    "plt.show()"
   ]
  },
  {
   "cell_type": "code",
   "execution_count": null,
   "id": "65cc764a",
   "metadata": {},
   "outputs": [],
   "source": []
  }
 ],
 "metadata": {
  "kernelspec": {
   "display_name": "Python 3",
   "language": "python",
   "name": "python3"
  },
  "language_info": {
   "codemirror_mode": {
    "name": "ipython",
    "version": 3
   },
   "file_extension": ".py",
   "mimetype": "text/x-python",
   "name": "python",
   "nbconvert_exporter": "python",
   "pygments_lexer": "ipython3",
   "version": "3.7.11"
  }
 },
 "nbformat": 4,
 "nbformat_minor": 5
}
